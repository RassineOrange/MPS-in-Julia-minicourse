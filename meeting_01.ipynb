{
 "cells": [
  {
   "cell_type": "code",
   "execution_count": 1,
   "metadata": {
    "collapsed": true
   },
   "outputs": [],
   "source": []
  },
  {
   "cell_type": "markdown",
   "metadata": {},
   "source": [
    "# Setting up the libraries"
   ]
  },
  {
   "cell_type": "code",
   "execution_count": null,
   "metadata": {
    "collapsed": true
   },
   "outputs": [],
   "source": [
    "Pkg.add(\"LinearMaps\")\n",
    "Pkg.clone(\"https://github.com/Jutho/TensorOperations.jl\")\n",
    "Pkg.update()"
   ]
  },
  {
   "cell_type": "markdown",
   "metadata": {},
   "source": [
    "# Exact diagonalization of the Ising model"
   ]
  },
  {
   "cell_type": "code",
   "execution_count": 2,
   "metadata": {
    "collapsed": true
   },
   "outputs": [],
   "source": [
    "using LinearMaps"
   ]
  },
  {
   "cell_type": "code",
   "execution_count": 3,
   "metadata": {},
   "outputs": [
    {
     "name": "stdout",
     "output_type": "stream",
     "text": [
      " 12.928407 seconds (63.52 M allocations: 1.906 GiB, 2.51% gc time)\n"
     ]
    },
    {
     "name": "stderr",
     "output_type": "stream",
     "text": [
      "\u001b[1m\u001b[36mINFO: \u001b[39m\u001b[22m\u001b[36m-1.276882929256731\n",
      "\u001b[39m\u001b[1m\u001b[36mINFO: \u001b[39m\u001b[22m\u001b[36m0.002861507511790359\n",
      "\u001b[39m"
     ]
    }
   ],
   "source": [
    "# Ising model with transverse magnetic field h (critical h=1 by default)\n",
    "function build_ising_ham(h=1.0)\n",
    "    X = [0 1; 1 0]\n",
    "    Z = [1 0; 0 -1]\n",
    "    I2 = eye(2)\n",
    "    XX = kron(X, X)\n",
    "    ZI = kron(Z, I2)\n",
    "    IZ = kron(I2, Z)\n",
    "    H = -(XX + h/2*(ZI+IZ))\n",
    "    return H\n",
    "end\n",
    "\n",
    "\n",
    "function apply_spin_hamiltonian{T}(v::AbstractVector{T}, ham::Matrix{T})\n",
    "    D = length(v)\n",
    "    N = convert(Int64, log2(D))\n",
    "    tensor_shp = tuple(fill(2, N)...)  # tensor_shp =(2,2,2, ..., 2)\n",
    "    cyclperm = tuple(2:N..., 1)  #tuple for cyclic permutation cyclperm = (2, 3, ... N, 1)\n",
    "    out = zeros(tensor_shp)\n",
    "    for n=1:N\n",
    "        v, out = reshape(v, (4, 2^(N-2))), reshape(out, (4, 2^(N-2)))\n",
    "        out += ham*v\n",
    "        v, out = reshape(v, tensor_shp), reshape(out, tensor_shp)\n",
    "        v, out = permutedims(v, cyclperm), permutedims(out, cyclperm) \n",
    "    end\n",
    "    out = reshape(out, D)\n",
    "    return out\n",
    "end\n",
    "\n",
    "\n",
    "N = 12\n",
    "ising_h = build_ising_ham()\n",
    "apply_ising_hamiltonian(v) = apply_spin_hamiltonian(v, ising_h)\n",
    "H = LinearMap(apply_ising_hamiltonian, 2^N)\n",
    "@time u, v = eigs(H; nev=1, which=:SR)  #:SR stands for smallest real part\n",
    "energy = real(u[1])\n",
    "e_density = energy/N\n",
    "infN_e_density = -4/pi\n",
    "info(e_density)\n",
    "info((e_density - infN_e_density)/infN_e_density)"
   ]
  },
  {
   "cell_type": "markdown",
   "metadata": {},
   "source": [
    "# Uniform Matrix Product States"
   ]
  },
  {
   "cell_type": "code",
   "execution_count": 3,
   "metadata": {},
   "outputs": [
    {
     "name": "stderr",
     "output_type": "stream",
     "text": [
      "WARNING: replacing module MPSTools\n"
     ]
    }
   ],
   "source": [
    "include(\"MPSTools.jl\")\n",
    "using MPSTools"
   ]
  },
  {
   "cell_type": "code",
   "execution_count": 4,
   "metadata": {},
   "outputs": [
    {
     "name": "stderr",
     "output_type": "stream",
     "text": [
      "\u001b[1m\u001b[36mINFO: \u001b[39m\u001b[22m\u001b[36m5\n",
      "\u001b[39m\u001b[1m\u001b[36mINFO: \u001b[39m\u001b[22m\u001b[36m2\n",
      "\u001b[39m\u001b[1m\u001b[36mINFO: \u001b[39m\u001b[22m\u001b[36mComplex{Float64}[0.744652-1.12976im -0.968165-0.224989im; -1.22516-0.957561im 0.316324+0.637425im; -0.110278+0.552591im 0.43988+0.18355im; 0.956878+0.393327im 1.4291-0.0377493im; 0.142396-0.110386im 0.956832-0.911607im]\n",
      "\n",
      "Complex{Float64}[1.54723+0.701967im -0.310647-0.71533im; -0.381559+0.255508im -0.132735+1.08072im; -0.370723-0.133146im 0.271987-0.238011im; -0.399657+1.31718im 0.632122+0.182089im; 0.275616+0.35622im -0.640325+1.31677im]\n",
      "\n",
      "Complex{Float64}[-0.509559-0.258974im 0.57498+0.685549im; -1.0083+0.047313im 0.783889-0.0143781im; 0.0950174+1.32624im 0.306357-0.883913im; -0.251599+0.261489im 1.4577-0.792693im; -0.915025+0.00288091im -0.146286-0.369911im]\n",
      "\n",
      "Complex{Float64}[0.540806+0.734083im 0.426209+0.286974im; 0.286103-0.262267im 0.497595-0.853037im; -0.156529+0.214838im -0.0508923-0.163969im; 0.787602+0.151493im -0.116621+0.941736im; -0.85885-0.0187503im -0.0986024+0.328805im]\n",
      "\n",
      "Complex{Float64}[-0.663715-0.979546im 2.13778-0.0764858im; 0.750549+0.150234im 0.641567-0.0148511im; -0.221745-0.630837im 0.415217+0.764529im; -1.5133-1.25793im -1.47983+0.309551im; 0.934582-1.03933im 0.0378191+0.171688im]\n",
      "\u001b[39m"
     ]
    }
   ],
   "source": [
    "d = 2\n",
    "D = 5\n",
    "rumps = rand_UMPS(Complex128, d, D)\n",
    "\n",
    "info(bond_dim(rumps))\n",
    "info(phys_dim(rumps))\n",
    "info(mps_tensor(rumps))"
   ]
  },
  {
   "cell_type": "markdown",
   "metadata": {},
   "source": [
    "# How to use TensorOperations\n",
    "https://github.com/Jutho/TensorOperations.jl"
   ]
  },
  {
   "cell_type": "code",
   "execution_count": 2,
   "metadata": {
    "collapsed": true
   },
   "outputs": [],
   "source": [
    "using TensorOperations"
   ]
  },
  {
   "cell_type": "code",
   "execution_count": 3,
   "metadata": {},
   "outputs": [
    {
     "data": {
      "text/plain": [
       "8×8 Array{Float64,2}:\n",
       "  2.8389      -2.36066  -16.2216   …    2.40719    2.27099   -0.064616\n",
       "  0.48603    -11.1316   -15.7828       37.0245    -9.38914   -0.62949 \n",
       " -2.27375    -24.9968    -5.87084      20.6241   -10.3537     7.42278 \n",
       " -0.0387244   -4.10959    8.99863     -13.6481     1.58622   -7.43649 \n",
       "  1.82327     -1.17272  -20.2554       -1.44551    5.08714  -11.6752  \n",
       " -0.601702     9.13717    9.18234  …  -19.6208     3.51833    4.48183 \n",
       "  0.49232    -12.3988     8.97994       7.19677    6.28984   -9.78335 \n",
       " -2.70671     -5.77765    7.57405     -18.3485     5.09289    8.7062  "
      ]
     },
     "execution_count": 3,
     "metadata": {},
     "output_type": "execute_result"
    }
   ],
   "source": [
    "D = 8\n",
    "d = 2\n",
    "A=randn(D, d, D)\n",
    "B=randn(D, d, D)\n",
    "x=randn(D, D)\n",
    "@tensor y[a, d] := (A[a, s, b] * x[b, c]) * conj(B[d, s, c])"
   ]
  },
  {
   "cell_type": "code",
   "execution_count": null,
   "metadata": {
    "collapsed": true
   },
   "outputs": [],
   "source": []
  }
 ],
 "metadata": {
  "kernelspec": {
   "display_name": "Julia 0.6.0",
   "language": "julia",
   "name": "julia-0.6"
  },
  "language_info": {
   "file_extension": ".jl",
   "mimetype": "application/julia",
   "name": "julia",
   "version": "0.6.0"
  }
 },
 "nbformat": 4,
 "nbformat_minor": 2
}
